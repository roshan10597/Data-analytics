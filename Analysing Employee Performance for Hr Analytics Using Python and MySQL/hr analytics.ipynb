{
 "cells": [
  {
   "cell_type": "markdown",
   "id": "5d3a198f",
   "metadata": {},
   "source": [
    "## Module 1: Data Preprocessing"
   ]
  },
  {
   "cell_type": "markdown",
   "id": "fb3e427e",
   "metadata": {},
   "source": [
    "#### Pre-processing the dataset:\n",
    "In this task you will be working on handling null values, deletion or transformation of irrelevant values, data type transformation, removing duplicates and data validations. Once you have completed this task, you will get a refined and a cleaner data set for further analysis.\n",
    "\n",
    "\n",
    "Steps to perform Data Pre-processing: \n",
    "\n",
    "Step 1: Removing duplicate rows \n",
    "\n",
    "Step 2: Removing rows for which numeric columns are having irrelevant data type values\n",
    "\n",
    "Step 3: Remove irrelevant values from each column if any. Validation of all values for a column\n",
    "        Check for any inconsistencies or discrepancies in data types, units, or formats.\n",
    "        Feel free to add more validation checks which you might feel necessary for the dataset’s integrity\n",
    "        \n",
    "Step 4: Export the cleaned dataset as a .csv file: prefer UTF-8 encoding.\n",
    "\n",
    "Step 5: Convert the pre-processed dataset into an SQL file. \n",
    "\n",
    "Step 6: Manually generate a table by utilizing the database information provided in the \"Database Info\" tab."
   ]
  },
  {
   "cell_type": "code",
   "execution_count": 2,
   "id": "15e50bcc",
   "metadata": {},
   "outputs": [],
   "source": [
    "import pandas as pd\n",
    "import numpy as np"
   ]
  },
  {
   "cell_type": "code",
   "execution_count": 3,
   "id": "7d0e3a94",
   "metadata": {},
   "outputs": [],
   "source": [
    "df=pd.read_csv(\"Uncleaned_employees_final_dataset.CSV\")"
   ]
  },
  {
   "cell_type": "code",
   "execution_count": 4,
   "id": "db819d2d",
   "metadata": {},
   "outputs": [
    {
     "data": {
      "text/html": [
       "<div>\n",
       "<style scoped>\n",
       "    .dataframe tbody tr th:only-of-type {\n",
       "        vertical-align: middle;\n",
       "    }\n",
       "\n",
       "    .dataframe tbody tr th {\n",
       "        vertical-align: top;\n",
       "    }\n",
       "\n",
       "    .dataframe thead th {\n",
       "        text-align: right;\n",
       "    }\n",
       "</style>\n",
       "<table border=\"1\" class=\"dataframe\">\n",
       "  <thead>\n",
       "    <tr style=\"text-align: right;\">\n",
       "      <th></th>\n",
       "      <th>employee_id</th>\n",
       "      <th>department</th>\n",
       "      <th>region</th>\n",
       "      <th>education</th>\n",
       "      <th>gender</th>\n",
       "      <th>recruitment_channel</th>\n",
       "      <th>no_of_trainings</th>\n",
       "      <th>age</th>\n",
       "      <th>previous_year_rating</th>\n",
       "      <th>length_of_service</th>\n",
       "      <th>KPIs_met_more_than_80</th>\n",
       "      <th>awards_won</th>\n",
       "      <th>avg_training_score</th>\n",
       "    </tr>\n",
       "  </thead>\n",
       "  <tbody>\n",
       "    <tr>\n",
       "      <th>0</th>\n",
       "      <td>8724</td>\n",
       "      <td>Technology</td>\n",
       "      <td>region_26</td>\n",
       "      <td>Bachelors</td>\n",
       "      <td>m</td>\n",
       "      <td>sourcing</td>\n",
       "      <td>1</td>\n",
       "      <td>24</td>\n",
       "      <td>NaN</td>\n",
       "      <td>1</td>\n",
       "      <td>1</td>\n",
       "      <td>0</td>\n",
       "      <td>77</td>\n",
       "    </tr>\n",
       "    <tr>\n",
       "      <th>1</th>\n",
       "      <td>74430</td>\n",
       "      <td>HR</td>\n",
       "      <td>region_4</td>\n",
       "      <td>Bachelors</td>\n",
       "      <td>f</td>\n",
       "      <td>other</td>\n",
       "      <td>1</td>\n",
       "      <td>31</td>\n",
       "      <td>3.0</td>\n",
       "      <td>5</td>\n",
       "      <td>0</td>\n",
       "      <td>0</td>\n",
       "      <td>51</td>\n",
       "    </tr>\n",
       "    <tr>\n",
       "      <th>2</th>\n",
       "      <td>72255</td>\n",
       "      <td>Sales &amp; Marketing</td>\n",
       "      <td>region_13</td>\n",
       "      <td>Bachelors</td>\n",
       "      <td>m</td>\n",
       "      <td>other</td>\n",
       "      <td>1</td>\n",
       "      <td>31</td>\n",
       "      <td>1.0</td>\n",
       "      <td>4</td>\n",
       "      <td>0</td>\n",
       "      <td>0</td>\n",
       "      <td>47</td>\n",
       "    </tr>\n",
       "    <tr>\n",
       "      <th>3</th>\n",
       "      <td>38562</td>\n",
       "      <td>Procurement</td>\n",
       "      <td>region_2</td>\n",
       "      <td>Bachelors</td>\n",
       "      <td>f</td>\n",
       "      <td>other</td>\n",
       "      <td>3</td>\n",
       "      <td>31</td>\n",
       "      <td>2.0</td>\n",
       "      <td>9</td>\n",
       "      <td>0</td>\n",
       "      <td>0</td>\n",
       "      <td>65</td>\n",
       "    </tr>\n",
       "    <tr>\n",
       "      <th>4</th>\n",
       "      <td>64486</td>\n",
       "      <td>Finance</td>\n",
       "      <td>region_29</td>\n",
       "      <td>Bachelors</td>\n",
       "      <td>m</td>\n",
       "      <td>sourcing</td>\n",
       "      <td>1</td>\n",
       "      <td>30</td>\n",
       "      <td>4.0</td>\n",
       "      <td>7</td>\n",
       "      <td>0</td>\n",
       "      <td>0</td>\n",
       "      <td>61</td>\n",
       "    </tr>\n",
       "  </tbody>\n",
       "</table>\n",
       "</div>"
      ],
      "text/plain": [
       "   employee_id         department     region  education gender  \\\n",
       "0         8724         Technology  region_26  Bachelors      m   \n",
       "1        74430                 HR   region_4  Bachelors      f   \n",
       "2        72255  Sales & Marketing  region_13  Bachelors      m   \n",
       "3        38562        Procurement   region_2  Bachelors      f   \n",
       "4        64486            Finance  region_29  Bachelors      m   \n",
       "\n",
       "  recruitment_channel  no_of_trainings  age  previous_year_rating  \\\n",
       "0            sourcing                1   24                   NaN   \n",
       "1               other                1   31                   3.0   \n",
       "2               other                1   31                   1.0   \n",
       "3               other                3   31                   2.0   \n",
       "4            sourcing                1   30                   4.0   \n",
       "\n",
       "   length_of_service  KPIs_met_more_than_80  awards_won  avg_training_score  \n",
       "0                  1                      1           0                  77  \n",
       "1                  5                      0           0                  51  \n",
       "2                  4                      0           0                  47  \n",
       "3                  9                      0           0                  65  \n",
       "4                  7                      0           0                  61  "
      ]
     },
     "execution_count": 4,
     "metadata": {},
     "output_type": "execute_result"
    }
   ],
   "source": [
    "df.head()"
   ]
  },
  {
   "cell_type": "code",
   "execution_count": 7,
   "id": "481532c6",
   "metadata": {},
   "outputs": [
    {
     "name": "stdout",
     "output_type": "stream",
     "text": [
      "<class 'pandas.core.frame.DataFrame'>\n",
      "RangeIndex: 17417 entries, 0 to 17416\n",
      "Data columns (total 13 columns):\n",
      " #   Column                 Non-Null Count  Dtype  \n",
      "---  ------                 --------------  -----  \n",
      " 0   employee_id            17417 non-null  int64  \n",
      " 1   department             17417 non-null  object \n",
      " 2   region                 17417 non-null  object \n",
      " 3   education              16646 non-null  object \n",
      " 4   gender                 17417 non-null  object \n",
      " 5   recruitment_channel    17417 non-null  object \n",
      " 6   no_of_trainings        17417 non-null  int64  \n",
      " 7   age                    17417 non-null  int64  \n",
      " 8   previous_year_rating   16054 non-null  float64\n",
      " 9   length_of_service      17417 non-null  int64  \n",
      " 10  KPIs_met_more_than_80  17417 non-null  int64  \n",
      " 11  awards_won             17417 non-null  int64  \n",
      " 12  avg_training_score     17417 non-null  int64  \n",
      "dtypes: float64(1), int64(7), object(5)\n",
      "memory usage: 1.7+ MB\n"
     ]
    }
   ],
   "source": [
    "df.info()"
   ]
  },
  {
   "cell_type": "code",
   "execution_count": 11,
   "id": "5021d782",
   "metadata": {},
   "outputs": [
    {
     "data": {
      "text/plain": [
       "2"
      ]
     },
     "execution_count": 11,
     "metadata": {},
     "output_type": "execute_result"
    }
   ],
   "source": [
    "df.duplicated().sum()"
   ]
  },
  {
   "cell_type": "code",
   "execution_count": 13,
   "id": "d0777cfe",
   "metadata": {},
   "outputs": [],
   "source": [
    "df.drop_duplicates(inplace=True)"
   ]
  },
  {
   "cell_type": "code",
   "execution_count": 14,
   "id": "39b39794",
   "metadata": {},
   "outputs": [
    {
     "data": {
      "text/html": [
       "<div>\n",
       "<style scoped>\n",
       "    .dataframe tbody tr th:only-of-type {\n",
       "        vertical-align: middle;\n",
       "    }\n",
       "\n",
       "    .dataframe tbody tr th {\n",
       "        vertical-align: top;\n",
       "    }\n",
       "\n",
       "    .dataframe thead th {\n",
       "        text-align: right;\n",
       "    }\n",
       "</style>\n",
       "<table border=\"1\" class=\"dataframe\">\n",
       "  <thead>\n",
       "    <tr style=\"text-align: right;\">\n",
       "      <th></th>\n",
       "      <th>employee_id</th>\n",
       "      <th>department</th>\n",
       "      <th>region</th>\n",
       "      <th>education</th>\n",
       "      <th>gender</th>\n",
       "      <th>recruitment_channel</th>\n",
       "      <th>no_of_trainings</th>\n",
       "      <th>age</th>\n",
       "      <th>previous_year_rating</th>\n",
       "      <th>length_of_service</th>\n",
       "      <th>KPIs_met_more_than_80</th>\n",
       "      <th>awards_won</th>\n",
       "      <th>avg_training_score</th>\n",
       "    </tr>\n",
       "  </thead>\n",
       "  <tbody>\n",
       "    <tr>\n",
       "      <th>0</th>\n",
       "      <td>8724</td>\n",
       "      <td>Technology</td>\n",
       "      <td>region_26</td>\n",
       "      <td>Bachelors</td>\n",
       "      <td>m</td>\n",
       "      <td>sourcing</td>\n",
       "      <td>1</td>\n",
       "      <td>24</td>\n",
       "      <td>NaN</td>\n",
       "      <td>1</td>\n",
       "      <td>1</td>\n",
       "      <td>0</td>\n",
       "      <td>77</td>\n",
       "    </tr>\n",
       "    <tr>\n",
       "      <th>1</th>\n",
       "      <td>74430</td>\n",
       "      <td>HR</td>\n",
       "      <td>region_4</td>\n",
       "      <td>Bachelors</td>\n",
       "      <td>f</td>\n",
       "      <td>other</td>\n",
       "      <td>1</td>\n",
       "      <td>31</td>\n",
       "      <td>3.0</td>\n",
       "      <td>5</td>\n",
       "      <td>0</td>\n",
       "      <td>0</td>\n",
       "      <td>51</td>\n",
       "    </tr>\n",
       "    <tr>\n",
       "      <th>2</th>\n",
       "      <td>72255</td>\n",
       "      <td>Sales &amp; Marketing</td>\n",
       "      <td>region_13</td>\n",
       "      <td>Bachelors</td>\n",
       "      <td>m</td>\n",
       "      <td>other</td>\n",
       "      <td>1</td>\n",
       "      <td>31</td>\n",
       "      <td>1.0</td>\n",
       "      <td>4</td>\n",
       "      <td>0</td>\n",
       "      <td>0</td>\n",
       "      <td>47</td>\n",
       "    </tr>\n",
       "    <tr>\n",
       "      <th>3</th>\n",
       "      <td>38562</td>\n",
       "      <td>Procurement</td>\n",
       "      <td>region_2</td>\n",
       "      <td>Bachelors</td>\n",
       "      <td>f</td>\n",
       "      <td>other</td>\n",
       "      <td>3</td>\n",
       "      <td>31</td>\n",
       "      <td>2.0</td>\n",
       "      <td>9</td>\n",
       "      <td>0</td>\n",
       "      <td>0</td>\n",
       "      <td>65</td>\n",
       "    </tr>\n",
       "    <tr>\n",
       "      <th>4</th>\n",
       "      <td>64486</td>\n",
       "      <td>Finance</td>\n",
       "      <td>region_29</td>\n",
       "      <td>Bachelors</td>\n",
       "      <td>m</td>\n",
       "      <td>sourcing</td>\n",
       "      <td>1</td>\n",
       "      <td>30</td>\n",
       "      <td>4.0</td>\n",
       "      <td>7</td>\n",
       "      <td>0</td>\n",
       "      <td>0</td>\n",
       "      <td>61</td>\n",
       "    </tr>\n",
       "  </tbody>\n",
       "</table>\n",
       "</div>"
      ],
      "text/plain": [
       "   employee_id         department     region  education gender  \\\n",
       "0         8724         Technology  region_26  Bachelors      m   \n",
       "1        74430                 HR   region_4  Bachelors      f   \n",
       "2        72255  Sales & Marketing  region_13  Bachelors      m   \n",
       "3        38562        Procurement   region_2  Bachelors      f   \n",
       "4        64486            Finance  region_29  Bachelors      m   \n",
       "\n",
       "  recruitment_channel  no_of_trainings  age  previous_year_rating  \\\n",
       "0            sourcing                1   24                   NaN   \n",
       "1               other                1   31                   3.0   \n",
       "2               other                1   31                   1.0   \n",
       "3               other                3   31                   2.0   \n",
       "4            sourcing                1   30                   4.0   \n",
       "\n",
       "   length_of_service  KPIs_met_more_than_80  awards_won  avg_training_score  \n",
       "0                  1                      1           0                  77  \n",
       "1                  5                      0           0                  51  \n",
       "2                  4                      0           0                  47  \n",
       "3                  9                      0           0                  65  \n",
       "4                  7                      0           0                  61  "
      ]
     },
     "execution_count": 14,
     "metadata": {},
     "output_type": "execute_result"
    }
   ],
   "source": [
    "df.head()"
   ]
  },
  {
   "cell_type": "code",
   "execution_count": 16,
   "id": "07d4c4b5",
   "metadata": {},
   "outputs": [
    {
     "data": {
      "text/plain": [
       "(17415, 13)"
      ]
     },
     "execution_count": 16,
     "metadata": {},
     "output_type": "execute_result"
    }
   ],
   "source": [
    "df.shape"
   ]
  },
  {
   "cell_type": "code",
   "execution_count": 17,
   "id": "bf12074d",
   "metadata": {},
   "outputs": [],
   "source": [
    "df = df.dropna(axis=0, subset=['previous_year_rating'])"
   ]
  },
  {
   "cell_type": "code",
   "execution_count": 18,
   "id": "0839e220",
   "metadata": {},
   "outputs": [
    {
     "data": {
      "text/plain": [
       "(16052, 13)"
      ]
     },
     "execution_count": 18,
     "metadata": {},
     "output_type": "execute_result"
    }
   ],
   "source": [
    "df.shape"
   ]
  },
  {
   "cell_type": "code",
   "execution_count": 17,
   "id": "291c131b",
   "metadata": {},
   "outputs": [
    {
     "name": "stdout",
     "output_type": "stream",
     "text": [
      "<class 'pandas.core.frame.DataFrame'>\n",
      "RangeIndex: 17417 entries, 0 to 17416\n",
      "Data columns (total 13 columns):\n",
      " #   Column                 Non-Null Count  Dtype  \n",
      "---  ------                 --------------  -----  \n",
      " 0   employee_id            17417 non-null  int64  \n",
      " 1   department             17417 non-null  object \n",
      " 2   region                 17417 non-null  object \n",
      " 3   education              16646 non-null  object \n",
      " 4   gender                 17417 non-null  object \n",
      " 5   recruitment_channel    17417 non-null  object \n",
      " 6   no_of_trainings        17417 non-null  int64  \n",
      " 7   age                    17417 non-null  int64  \n",
      " 8   previous_year_rating   16054 non-null  float64\n",
      " 9   length_of_service      17417 non-null  int64  \n",
      " 10  KPIs_met_more_than_80  17417 non-null  int64  \n",
      " 11  awards_won             17417 non-null  int64  \n",
      " 12  avg_training_score     17417 non-null  int64  \n",
      "dtypes: float64(1), int64(7), object(5)\n",
      "memory usage: 1.7+ MB\n"
     ]
    }
   ],
   "source": [
    "df.info()"
   ]
  },
  {
   "cell_type": "code",
   "execution_count": 18,
   "id": "b09a0dfa",
   "metadata": {},
   "outputs": [
    {
     "data": {
      "text/html": [
       "<div>\n",
       "<style scoped>\n",
       "    .dataframe tbody tr th:only-of-type {\n",
       "        vertical-align: middle;\n",
       "    }\n",
       "\n",
       "    .dataframe tbody tr th {\n",
       "        vertical-align: top;\n",
       "    }\n",
       "\n",
       "    .dataframe thead th {\n",
       "        text-align: right;\n",
       "    }\n",
       "</style>\n",
       "<table border=\"1\" class=\"dataframe\">\n",
       "  <thead>\n",
       "    <tr style=\"text-align: right;\">\n",
       "      <th></th>\n",
       "      <th>employee_id</th>\n",
       "      <th>department</th>\n",
       "      <th>region</th>\n",
       "      <th>education</th>\n",
       "      <th>gender</th>\n",
       "      <th>recruitment_channel</th>\n",
       "      <th>no_of_trainings</th>\n",
       "      <th>age</th>\n",
       "      <th>previous_year_rating</th>\n",
       "      <th>length_of_service</th>\n",
       "      <th>KPIs_met_more_than_80</th>\n",
       "      <th>awards_won</th>\n",
       "      <th>avg_training_score</th>\n",
       "    </tr>\n",
       "  </thead>\n",
       "  <tbody>\n",
       "    <tr>\n",
       "      <th>0</th>\n",
       "      <td>8724</td>\n",
       "      <td>Technology</td>\n",
       "      <td>region_26</td>\n",
       "      <td>Bachelors</td>\n",
       "      <td>m</td>\n",
       "      <td>sourcing</td>\n",
       "      <td>1</td>\n",
       "      <td>24</td>\n",
       "      <td>NaN</td>\n",
       "      <td>1</td>\n",
       "      <td>1</td>\n",
       "      <td>0</td>\n",
       "      <td>77</td>\n",
       "    </tr>\n",
       "    <tr>\n",
       "      <th>1</th>\n",
       "      <td>74430</td>\n",
       "      <td>HR</td>\n",
       "      <td>region_4</td>\n",
       "      <td>Bachelors</td>\n",
       "      <td>f</td>\n",
       "      <td>other</td>\n",
       "      <td>1</td>\n",
       "      <td>31</td>\n",
       "      <td>3.0</td>\n",
       "      <td>5</td>\n",
       "      <td>0</td>\n",
       "      <td>0</td>\n",
       "      <td>51</td>\n",
       "    </tr>\n",
       "    <tr>\n",
       "      <th>2</th>\n",
       "      <td>72255</td>\n",
       "      <td>Sales &amp; Marketing</td>\n",
       "      <td>region_13</td>\n",
       "      <td>Bachelors</td>\n",
       "      <td>m</td>\n",
       "      <td>other</td>\n",
       "      <td>1</td>\n",
       "      <td>31</td>\n",
       "      <td>1.0</td>\n",
       "      <td>4</td>\n",
       "      <td>0</td>\n",
       "      <td>0</td>\n",
       "      <td>47</td>\n",
       "    </tr>\n",
       "    <tr>\n",
       "      <th>3</th>\n",
       "      <td>38562</td>\n",
       "      <td>Procurement</td>\n",
       "      <td>region_2</td>\n",
       "      <td>Bachelors</td>\n",
       "      <td>f</td>\n",
       "      <td>other</td>\n",
       "      <td>3</td>\n",
       "      <td>31</td>\n",
       "      <td>2.0</td>\n",
       "      <td>9</td>\n",
       "      <td>0</td>\n",
       "      <td>0</td>\n",
       "      <td>65</td>\n",
       "    </tr>\n",
       "    <tr>\n",
       "      <th>4</th>\n",
       "      <td>64486</td>\n",
       "      <td>Finance</td>\n",
       "      <td>region_29</td>\n",
       "      <td>Bachelors</td>\n",
       "      <td>m</td>\n",
       "      <td>sourcing</td>\n",
       "      <td>1</td>\n",
       "      <td>30</td>\n",
       "      <td>4.0</td>\n",
       "      <td>7</td>\n",
       "      <td>0</td>\n",
       "      <td>0</td>\n",
       "      <td>61</td>\n",
       "    </tr>\n",
       "  </tbody>\n",
       "</table>\n",
       "</div>"
      ],
      "text/plain": [
       "   employee_id         department     region  education gender  \\\n",
       "0         8724         Technology  region_26  Bachelors      m   \n",
       "1        74430                 HR   region_4  Bachelors      f   \n",
       "2        72255  Sales & Marketing  region_13  Bachelors      m   \n",
       "3        38562        Procurement   region_2  Bachelors      f   \n",
       "4        64486            Finance  region_29  Bachelors      m   \n",
       "\n",
       "  recruitment_channel  no_of_trainings  age  previous_year_rating  \\\n",
       "0            sourcing                1   24                   NaN   \n",
       "1               other                1   31                   3.0   \n",
       "2               other                1   31                   1.0   \n",
       "3               other                3   31                   2.0   \n",
       "4            sourcing                1   30                   4.0   \n",
       "\n",
       "   length_of_service  KPIs_met_more_than_80  awards_won  avg_training_score  \n",
       "0                  1                      1           0                  77  \n",
       "1                  5                      0           0                  51  \n",
       "2                  4                      0           0                  47  \n",
       "3                  9                      0           0                  65  \n",
       "4                  7                      0           0                  61  "
      ]
     },
     "execution_count": 18,
     "metadata": {},
     "output_type": "execute_result"
    }
   ],
   "source": [
    "df.head()"
   ]
  },
  {
   "cell_type": "code",
   "execution_count": 22,
   "id": "f8a1472b",
   "metadata": {},
   "outputs": [],
   "source": [
    "df.to_csv('cleaned_employees_final_dataset.csv', encoding='utf-8', index=False)"
   ]
  },
  {
   "cell_type": "markdown",
   "id": "158d2aa9",
   "metadata": {},
   "source": [
    "## Module 2: Data Analysis in SQL "
   ]
  },
  {
   "cell_type": "markdown",
   "id": "e591d965",
   "metadata": {},
   "source": [
    "### 1) Find the average age of employees in each department and gender group. ( Round average  age up to two decimal places if needed)"
   ]
  },
  {
   "cell_type": "code",
   "execution_count": null,
   "id": "ef43b879",
   "metadata": {},
   "outputs": [],
   "source": [
    "select `department`,`gender`, round(avg(`age`),2) from employee\n",
    "group by `department`,`gender`;"
   ]
  },
  {
   "cell_type": "markdown",
   "id": "a07ca56c",
   "metadata": {},
   "source": [
    "### 2) List the top 3 departments with the highest average training scores. ( Round average scores up to two decimal places if needed)"
   ]
  },
  {
   "cell_type": "code",
   "execution_count": null,
   "id": "b27a27d4",
   "metadata": {},
   "outputs": [],
   "source": [
    "select `department`, round(avg(`avg_training_score`),2) from employee\n",
    "group by `department`\n",
    "order by round(avg(`avg_training_score`),2) desc\n",
    "limit 3;"
   ]
  },
  {
   "cell_type": "markdown",
   "id": "ad485f93",
   "metadata": {},
   "source": [
    "### 3) Find the percentage of employees who have won awards in each region. (Round percentages up to two decimal places if needed)"
   ]
  },
  {
   "cell_type": "code",
   "execution_count": null,
   "id": "d7b41a82",
   "metadata": {},
   "outputs": [],
   "source": [
    "select `region`,\n",
    "round(count(*)*100/(select sum(awards_won) from employee),2) as \"award_percentage\"\n",
    "from employee\n",
    "where awards_won!=0\n",
    "group by `region`;"
   ]
  },
  {
   "cell_type": "markdown",
   "id": "7593c403",
   "metadata": {},
   "source": [
    "### 4) Show the number of employees who have met more than 80% of KPIs for each recruitment channel and education level."
   ]
  },
  {
   "cell_type": "code",
   "execution_count": null,
   "id": "780286cd",
   "metadata": {},
   "outputs": [],
   "source": [
    "select `recruitment_channel`,`education`,\n",
    "sum(`KPIs_met_more_than_80`)\n",
    "from employee\n",
    "group by `recruitment_channel`,`education`;"
   ]
  },
  {
   "cell_type": "markdown",
   "id": "59eadc5c",
   "metadata": {},
   "source": [
    "### 5) Find the average length of service for employees in each department, considering only employees with previous year ratings greater than or equal to 4. ( Round average length up to two decimal places if needed)"
   ]
  },
  {
   "cell_type": "code",
   "execution_count": null,
   "id": "eb705d6a",
   "metadata": {},
   "outputs": [],
   "source": [
    "select `department`,round(avg(`length_of_service`),2)\n",
    "from employee\n",
    "where `previous_year_rating` >= 4\n",
    "group by `department`;"
   ]
  },
  {
   "cell_type": "markdown",
   "id": "3cad4e0e",
   "metadata": {},
   "source": [
    "### 6) List the top 5 regions with the highest average previous year ratings. ( Round average ratings up to two decimal places if needed)"
   ]
  },
  {
   "cell_type": "code",
   "execution_count": null,
   "id": "2f367819",
   "metadata": {},
   "outputs": [],
   "source": [
    "select `region`,round(avg(`previous_year_rating`),2)\n",
    "from employee\n",
    "group by `region`\n",
    "order by avg(`previous_year_rating`) desc\n",
    "limit 5;"
   ]
  },
  {
   "cell_type": "markdown",
   "id": "b14b15a0",
   "metadata": {},
   "source": [
    "### 7) List the departments with more than 100 employees having a length of service greater than 5 years."
   ]
  },
  {
   "cell_type": "code",
   "execution_count": null,
   "id": "58e12fe6",
   "metadata": {},
   "outputs": [],
   "source": [
    "select `department`,count(*)\n",
    "from employee\n",
    "where `length_of_service`>5\n",
    "group by `department`\n",
    "having count(*)>100;"
   ]
  },
  {
   "cell_type": "markdown",
   "id": "839adcfc",
   "metadata": {},
   "source": [
    "### 8) Show the average length of service for employees who have attended more than 3 trainings, grouped by department and gender. ( Round average length up to two decimal places if needed)"
   ]
  },
  {
   "cell_type": "code",
   "execution_count": null,
   "id": "5580dec6",
   "metadata": {},
   "outputs": [],
   "source": [
    "select `department`,`gender`, round(avg(`length_of_service`),2)\n",
    "from employee\n",
    "where `no_of_trainings`>3\n",
    "group by `department`, `gender`;"
   ]
  },
  {
   "cell_type": "markdown",
   "id": "0f7ca3e5",
   "metadata": {},
   "source": [
    "### 9) Find the percentage of female employees who have won awards, per department. Also show the number of female employees who won awards and total female employees. ( Round percentage up to two decimal places if needed)"
   ]
  },
  {
   "cell_type": "code",
   "execution_count": null,
   "id": "411790bd",
   "metadata": {},
   "outputs": [],
   "source": [
    "select `department`,\n",
    "sum(`awards_won`),\n",
    "count(*),\n",
    "round(sum(`awards_won`)/count(*)*100,2)\n",
    "from employee\n",
    "where `gender`='f'\n",
    "group by `department`;"
   ]
  },
  {
   "cell_type": "markdown",
   "id": "ee017121",
   "metadata": {},
   "source": [
    "### 10) Calculate the percentage of employees per department who have a length of service between 5 and 10 years. ( Round percentage up to two decimal places if needed)"
   ]
  },
  {
   "cell_type": "code",
   "execution_count": null,
   "id": "4fd53e9c",
   "metadata": {},
   "outputs": [],
   "source": [
    "select `department`,\n",
    "round((count(case when `length_of_service`>=5  and `length_of_service`<=10 then 1 end)/count(*))*100,2) as percentage\n",
    "from employee\n",
    "group by `department`;"
   ]
  },
  {
   "cell_type": "markdown",
   "id": "87205c77",
   "metadata": {},
   "source": [
    "### 11) Find the top 3 regions with the highest number of employees who have met more than 80% of their KPIs and received at least one award, grouped by department and region."
   ]
  },
  {
   "cell_type": "code",
   "execution_count": null,
   "id": "20bacd6f",
   "metadata": {},
   "outputs": [],
   "source": [
    "select `department`,`region`,\n",
    "count(*)\n",
    "from employee\n",
    "where `awards_won`=1 and `KPIs_met_more_than_80`=1 \n",
    "group by `department`,`region`\n",
    "order by count(*) desc\n",
    "limit 3;"
   ]
  },
  {
   "cell_type": "markdown",
   "id": "6d1ed46b",
   "metadata": {},
   "source": [
    "### 12) Calculate the average length of service for employees per education level and gender, considering only those employees who have completed more than 2 trainings and have an average training score greater than 75 ( Round average length up to two decimal places if needed)"
   ]
  },
  {
   "cell_type": "code",
   "execution_count": null,
   "id": "f78d391d",
   "metadata": {},
   "outputs": [],
   "source": [
    "select `education`,`gender`,\n",
    "round(avg(`length_of_service`),2)\n",
    "from employee\n",
    "where `no_of_trainings`>2 and `avg_training_score`>75\n",
    "group by `education`,`gender`;"
   ]
  },
  {
   "cell_type": "markdown",
   "id": "d041401c",
   "metadata": {},
   "source": [
    "### 13) For each department and recruitment channel, find the total number of employees who have met more than 80% of their KPIs, have a previous_year_rating of 5, and have a length of service greater than 10 years."
   ]
  },
  {
   "cell_type": "code",
   "execution_count": null,
   "id": "62440b5f",
   "metadata": {},
   "outputs": [],
   "source": [
    "select `department`,`recruitment_channel`,count(*)\n",
    "from employee\n",
    "where `KPIs_met_more_than_80`=1 and `previous_year_rating`=5 and `length_of_service`>10\n",
    "group by `department`,`recruitment_channel`"
   ]
  },
  {
   "cell_type": "markdown",
   "id": "66583543",
   "metadata": {},
   "source": [
    "### 14) Calculate the percentage of employees in each department who have received awards, have a previous_year_rating of 4 or 5, and an average training score above 70, grouped by department and gender ( Round percentage up to two decimal places if needed)."
   ]
  },
  {
   "cell_type": "code",
   "execution_count": null,
   "id": "2d54ca99",
   "metadata": {},
   "outputs": [],
   "source": [
    "select `department`,`gender`,\n",
    "round((count(case when `awards_won`=1 and `previous_year_rating` in (4,5) and `avg_training_score`>70 then 1 end )/count(*))*100,2) as percentage\n",
    "from employee\n",
    "group by `department`,`gender`;"
   ]
  },
  {
   "cell_type": "markdown",
   "id": "6b2dcc21",
   "metadata": {},
   "source": [
    "### 15) List the top 5 recruitment channels with the highest average length of service for employees who have met more than 80% of their KPIs, have a previous_year_rating of 5, and an age between 25 and 45 years, grouped by department and recruitment channel. ( Round average length up to two decimal places if needed)."
   ]
  },
  {
   "cell_type": "code",
   "execution_count": null,
   "id": "fcdd1b6f",
   "metadata": {},
   "outputs": [],
   "source": [
    "select `department`,`recruitment_channel`,round(avg(`length_of_service`),2)\n",
    "from employee\n",
    "where `KPIs_met_more_than_80`=1 and `previous_year_rating`=5 and age between 25 and 45\n",
    "group by `department`,`recruitment_channel`\n",
    "order by avg(`length_of_service`) desc\n",
    "limit 5;"
   ]
  }
 ],
 "metadata": {
  "kernelspec": {
   "display_name": "Python 3 (ipykernel)",
   "language": "python",
   "name": "python3"
  },
  "language_info": {
   "codemirror_mode": {
    "name": "ipython",
    "version": 3
   },
   "file_extension": ".py",
   "mimetype": "text/x-python",
   "name": "python",
   "nbconvert_exporter": "python",
   "pygments_lexer": "ipython3",
   "version": "3.9.13"
  }
 },
 "nbformat": 4,
 "nbformat_minor": 5
}
