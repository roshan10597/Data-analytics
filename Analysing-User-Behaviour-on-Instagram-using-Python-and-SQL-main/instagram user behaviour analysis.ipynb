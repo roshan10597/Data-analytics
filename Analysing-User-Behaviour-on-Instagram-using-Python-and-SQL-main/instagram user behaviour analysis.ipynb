{
 "cells": [
  {
   "cell_type": "markdown",
   "id": "3e047d0c",
   "metadata": {},
   "source": [
    "# Removing Unwanted Columns and Renaming Appropriate Columns for Improved Analysis\n",
    "Q: Data Cleaning for Comments is a process of removing unwanted columns and renaming the appropriate columns in a dataset containing comments. It involves identifying and removing irrelevant or redundant columns and renaming the columns to make them more descriptive and consistent with the content of the dataset. This improves the quality and usability of the data for analysis and modeling purposes."
   ]
  },
  {
   "cell_type": "code",
   "execution_count": null,
   "id": "c6e3d2e3",
   "metadata": {},
   "outputs": [],
   "source": [
    "import pandas as pd\n",
    "import numpy as np\n",
    "import warnings\n",
    "warnings.filterwarnings(\"ignore\")\n",
    "\n",
    "def read_data_from_csv():\n",
    "    comments=pd.read_csv('comments.csv')\n",
    "    return comments\n",
    "\n",
    "\n",
    "def data_cleaning():\n",
    "    #DO NOT REMOVE FOLLOWING LINE\n",
    "    #call remove_unwanted_columns() function to get dataframe\n",
    "    comments=read_data_from_csv()\n",
    "\n",
    "    #Remove Unwanted columns\n",
    "    comments.drop([\"posted date\",\"emoji used\",\"Hashtags used count\"],axis=1,inplace=True)\n",
    "    \n",
    "    \n",
    "    #rename columns, only these columns are allowed in the dataset\n",
    "    # 1.\tid\n",
    "    # 2.\tcomment_text\n",
    "    # 3.\tuser_id\n",
    "    # 4.\tphoto_id\n",
    "    # 5.\tcreated_at\n",
    "    comments.rename(columns={\"comment\":\"comment_text\",\"User  id\":\"user_id\",\"Photo id\":\"photo_id\",\"created Timestamp\":\"created_at\"},inplace=True)\n",
    "    \n",
    "    #export cleaned Dataset to newcsv file named \"comments_cleaned.csv\"\n",
    "    comments.to_csv('comments_cleaned.csv')\n",
    "    return comments\n",
    "\n",
    "\n",
    "#Do not Delete the Following function\n",
    "def task_runner():\n",
    "    data_cleaning()\n",
    "\n",
    "task_runner()"
   ]
  },
  {
   "cell_type": "code",
   "execution_count": null,
   "id": "7eb48fb3",
   "metadata": {},
   "outputs": [],
   "source": [
    "import pandas as pd\n",
    "import numpy as np\n",
    "import warnings\n",
    "warnings.filterwarnings(\"ignore\")\n",
    "\n",
    "def read_data_from_csv():\n",
    "    follows=pd.read_csv('follows.csv')\n",
    "    return follows\n",
    "\n",
    "\n",
    "def data_cleaning():\n",
    "    #DO NOT REMOVE FOLLOWING LINE\n",
    "    #call remove_unwanted_columns() function to get dataframe\n",
    "    follows=read_data_from_csv()\n",
    "\n",
    "    #Remove Unwanted columns\n",
    "    follows.drop([\"is follower active\",\"followee Acc status\"],axis=1,inplace=True)\n",
    "    \n",
    "    \n",
    "    #rename columns, only these columns are allowed in the dataset\n",
    "    # 1.\tfollower_id\n",
    "    # 2.\tfollowee_id\n",
    "    # 3.\tcreated_at\n",
    "    follows.rename(columns={\"follower\":\"follower_id\",\"followee \":\"followee_id\",\"created time\":\"created_at\"},inplace=True)\n",
    "    \n",
    "    #export cleaned Dataset to newcsv file named \"follows_cleaned.csv\"\n",
    "    follows.to_csv('follows_cleaned.csv')\n",
    "    return follows\n",
    "\n",
    "\n",
    "#Do not Delete the Following function\n",
    "def task_runner():\n",
    "    data_cleaning()\n",
    "\n",
    "task_runner()"
   ]
  },
  {
   "cell_type": "code",
   "execution_count": null,
   "id": "05f3f9ff",
   "metadata": {},
   "outputs": [],
   "source": [
    "import pandas as pd\n",
    "import numpy as np\n",
    "import warnings\n",
    "warnings.filterwarnings(\"ignore\")\n",
    "\n",
    "def read_data_from_csv():\n",
    "    likes=pd.read_csv('likes.csv')\n",
    "    return likes\n",
    "\n",
    "\n",
    "def data_cleaning():\n",
    "    #DO NOT REMOVE FOLLOWING LINE\n",
    "    #call remove_unwanted_columns() function to get dataframe\n",
    "    likes=read_data_from_csv()\n",
    "\n",
    "    #Remove Unwanted columns\n",
    "    likes.drop([\"following or not\",\"like type\"],axis=1,inplace=True)\n",
    "    \n",
    "    \n",
    "    #rename columns, only these columns are allowed in the dataset\n",
    "    # 1.\tuser_id\n",
    "    # 2.\tphoto_id\n",
    "    # 3.\tcreated_at\n",
    "    likes.rename({\"user \":\"user_id\",\"photo\":\"photo_id\",\"created time\":\"created_at\"},axis=1,inplace=True)\n",
    "    \n",
    "    #export cleaned Dataset to newcsv file named \"likes_cleaned.csv\"\n",
    "    likes.to_csv('likes_cleaned.csv')\n",
    "    return likes\n",
    "\n",
    "\n",
    "#Do not Delete the Following function\n",
    "def task_runner():\n",
    "    data_cleaning()\n",
    "\n",
    "task_runner()"
   ]
  },
  {
   "cell_type": "code",
   "execution_count": null,
   "id": "3632d692",
   "metadata": {},
   "outputs": [],
   "source": [
    "import pandas as pd\n",
    "import numpy as np\n",
    "import warnings\n",
    "warnings.filterwarnings(\"ignore\")\n",
    "\n",
    "def read_data_from_csv():\n",
    "    photo_tags=pd.read_csv('photo_tags.csv')\n",
    "    return photo_tags\n",
    "\n",
    "\n",
    "def data_cleaning():\n",
    "    #DO NOT REMOVE FOLLOWING LINE\n",
    "    #call remove_unwanted_columns() function to get dataframe\n",
    "    photo_tags=read_data_from_csv()\n",
    "\n",
    "    #Remove Unwanted columns\n",
    "    photo_tags.drop(\"user id\",axis=1,inplace=True)\n",
    "    \n",
    "    \n",
    "    #rename columns, only these columns are allowed in the dataset\n",
    "    # 1.\tphoto_id\n",
    "    # 2.\ttag_id\n",
    "    photo_tags.rename({\"photo\":\"photo_id\",\"tag ID\":\"tag_id\"},axis=1,inplace=True)\n",
    "    \n",
    "    #export cleaned Dataset to newcsv file named \"photo_tags_cleaned.csv\"\n",
    "    photo_tags.to_csv('photo_tags_cleaned.csv')\n",
    "    return photo_tags\n",
    "\n",
    "\n",
    "#Do not Delete the Following function\n",
    "def task_runner():\n",
    "    data_cleaning()\n",
    "\n",
    "task_runner()"
   ]
  },
  {
   "cell_type": "code",
   "execution_count": null,
   "id": "04602a98",
   "metadata": {},
   "outputs": [],
   "source": [
    "import pandas as pd\n",
    "import numpy as np\n",
    "import warnings\n",
    "warnings.filterwarnings(\"ignore\")\n",
    "\n",
    "def read_data_from_csv():\n",
    "    photos=pd.read_csv('photos.csv')\n",
    "    return photos\n",
    "\n",
    "\n",
    "def data_cleaning():\n",
    "    #DO NOT REMOVE FOLLOWING LINE\n",
    "    #call remove_unwanted_columns() function to get dataframe\n",
    "    photos=read_data_from_csv()\n",
    "\n",
    "    #Remove Unwanted columns\n",
    "    photos.drop([\"Insta filter used\",\"photo type\"],axis=1,inplace=True)\n",
    "    \n",
    "    \n",
    "    #rename columns, only these columns are allowed in the dataset\n",
    "    # 1.\tid\n",
    "    # 2.\timage_url\n",
    "    # 3.\tuser_id\n",
    "    # 4.\tcreated_date\n",
    "    photos.rename({\"image link\":\"image_url\",\"user ID\":\"user_id\",\"created dat\":\"created_date\"},axis=1,inplace=True)\n",
    "    \n",
    "    #export cleaned Dataset to newcsv file named \"photos_cleaned.csv\"\n",
    "    photos.to_csv('photos_cleaned.csv')\n",
    "    return photos\n",
    "\n",
    "\n",
    "#Do not Delete the Following function\n",
    "def task_runner():\n",
    "    data_cleaning()\n",
    "\n",
    "task_runner()"
   ]
  },
  {
   "cell_type": "code",
   "execution_count": null,
   "id": "77e501e3",
   "metadata": {},
   "outputs": [],
   "source": [
    "import pandas as pd\n",
    "import numpy as np\n",
    "import warnings\n",
    "warnings.filterwarnings(\"ignore\")\n",
    "\n",
    "def read_data_from_csv():\n",
    "    tags=pd.read_csv('tags.csv')\n",
    "    return tags\n",
    "\n",
    "\n",
    "def data_cleaning():\n",
    "    #DO NOT REMOVE FOLLOWING LINE\n",
    "    #call remove_unwanted_columns() function to get dataframe\n",
    "    tags=read_data_from_csv()\n",
    "\n",
    "    #Remove Unwanted columns\n",
    "    tags.drop(\"location\",axis=1,inplace=True)\n",
    "    \n",
    "    \n",
    "    #rename columns, only these columns are allowed in the dataset\n",
    "    # 1.\tid\n",
    "    # 2.\ttag_name\n",
    "    # 3.\tcreated_at\n",
    "    tags.rename({\"tag text\":\"tag_name\",\"created time\":\"created_at\"},axis=1,inplace=True)\n",
    "\n",
    "    #export cleaned Dataset to newcsv file named \"tags_cleaned.csv\"\n",
    "    tags.to_csv('tags_cleaned.csv')\n",
    "    return tags\n",
    "\n",
    "\n",
    "#Do not Delete the Following function\n",
    "def task_runner():\n",
    "    data_cleaning()\n",
    "\n",
    "task_runner()"
   ]
  },
  {
   "cell_type": "code",
   "execution_count": null,
   "id": "d80d0ed4",
   "metadata": {},
   "outputs": [],
   "source": [
    "import pandas as pd\n",
    "import numpy as np\n",
    "import warnings\n",
    "warnings.filterwarnings(\"ignore\")\n",
    "\n",
    "def read_data_from_csv():\n",
    "    users=pd.read_csv('users.csv')\n",
    "    return users\n",
    "\n",
    "\n",
    "def data_cleaning():\n",
    "    #DO NOT REMOVE FOLLOWING LINE\n",
    "    #call remove_unwanted_columns() function to get dataframe\n",
    "    users=read_data_from_csv()\n",
    "\n",
    "    #Remove Unwanted columns\n",
    "    users.drop([\"private/public\",\"post count\",\"Verified status\"],axis=1,inplace=True)\n",
    "    \n",
    "    \n",
    "    #rename columns, only these columns are allowed in the dataset\n",
    "    # 1.\tid\n",
    "    # 2.\tusername\n",
    "    # 3.\tcreated_at\n",
    "    users.rename({\"name\":\"username\",\"created time\":\"created_at\"},axis=1,inplace=True)\n",
    "    \n",
    "    #export cleaned Dataset to newcsv file named \"users_cleaned.csv\"\n",
    "    users.to_csv('users_cleaned.csv')\n",
    "    return users\n",
    "\n",
    "\n",
    "#Do not Delete the Following function\n",
    "def task_runner():\n",
    "    data_cleaning()\n",
    "\n",
    "task_runner()"
   ]
  },
  {
   "cell_type": "markdown",
   "id": "cc358a0e",
   "metadata": {},
   "source": [
    "# Write an SQL query to solve the given problem statement."
   ]
  },
  {
   "cell_type": "markdown",
   "id": "41363576",
   "metadata": {},
   "source": [
    "### 1) Find the 5 oldest users.\n",
    "\n"
   ]
  },
  {
   "cell_type": "code",
   "execution_count": null,
   "id": "732e7134",
   "metadata": {},
   "outputs": [],
   "source": [
    "select * from users\n",
    "order by created_at asc\n",
    "limit 5;"
   ]
  },
  {
   "cell_type": "markdown",
   "id": "f8311704",
   "metadata": {},
   "source": [
    "### 2) What day of the week do most users register on? We need to figure out when to schedule an ad campgain"
   ]
  },
  {
   "cell_type": "code",
   "execution_count": null,
   "id": "2fb901b4",
   "metadata": {},
   "outputs": [],
   "source": [
    "select dayname(created_at),\n",
    "count(*)\n",
    "from users\n",
    "group by dayname(created_at);"
   ]
  },
  {
   "cell_type": "markdown",
   "id": "080ceab1",
   "metadata": {},
   "source": [
    "### 3) We want to target our inactive users with an email campaign. Find the users who have never posted a photo."
   ]
  },
  {
   "cell_type": "code",
   "execution_count": null,
   "id": "4b82b4f0",
   "metadata": {},
   "outputs": [],
   "source": [
    "select username from users\n",
    "where id not in (select user_id from photos);"
   ]
  },
  {
   "cell_type": "markdown",
   "id": "59a2f270",
   "metadata": {},
   "source": [
    "### 4) We're running a new contest to see who can get the most likes on a single photo. WHO WON?"
   ]
  },
  {
   "cell_type": "code",
   "execution_count": null,
   "id": "edcf6218",
   "metadata": {},
   "outputs": [],
   "source": [
    "select u.username,p.id,p.image_url,count(*) as total_likes from likes l\n",
    "join photos p \n",
    "on p.id=l.photo_id\n",
    "join users u  \n",
    "on u.id=l.user_id\n",
    "group by p.id\n",
    "order by count(*) desc\n",
    "limit 1;"
   ]
  },
  {
   "cell_type": "markdown",
   "id": "7d24267e",
   "metadata": {},
   "source": [
    "### 5) Our Investors want to know...How many times does the average user post? (total number of photos/total number of users)"
   ]
  },
  {
   "cell_type": "code",
   "execution_count": null,
   "id": "889c1388",
   "metadata": {},
   "outputs": [],
   "source": [
    "select round(((select count(id) from photos)/(select count(id) from users)),2);"
   ]
  },
  {
   "cell_type": "markdown",
   "id": "e1a7bda5",
   "metadata": {},
   "source": [
    "### 6) user ranking by postings higher to lower"
   ]
  },
  {
   "cell_type": "code",
   "execution_count": null,
   "id": "4f0e978e",
   "metadata": {},
   "outputs": [],
   "source": [
    "select u.username,\n",
    "count(*)\n",
    "from photos p \n",
    "join users u\n",
    "on p.user_id=u.id\n",
    "GROUP BY user_id\n",
    "ORDER BY COUNT(*) DESC;"
   ]
  },
  {
   "cell_type": "markdown",
   "id": "0b0a8923",
   "metadata": {},
   "source": [
    "### 7) Total Posts by users (longer versionof SELECT COUNT(*)FROM photos)"
   ]
  },
  {
   "cell_type": "code",
   "execution_count": null,
   "id": "47c45b7d",
   "metadata": {},
   "outputs": [],
   "source": [
    "select sum(t.total_post_per_user) from\n",
    "(select u.username,count(p.image_url) as total_post_per_user\n",
    "from users u \n",
    "join photos p on u.id=p.user_id\n",
    "group by u.id) as t"
   ]
  },
  {
   "cell_type": "markdown",
   "id": "f757bda0",
   "metadata": {},
   "source": [
    "### 8) Total numbers of users who have posted at least one time"
   ]
  },
  {
   "cell_type": "code",
   "execution_count": null,
   "id": "775e94b9",
   "metadata": {},
   "outputs": [],
   "source": [
    "select count(*) from\n",
    "(select user_id,count(*)\n",
    "from photos\n",
    "group by user_id\n",
    "having count(*)!=0) t;"
   ]
  },
  {
   "cell_type": "markdown",
   "id": "063c2a8c",
   "metadata": {},
   "source": [
    "### 9) A brand wants to know which hashtags to use in a post. What are the top 5 most commonly used hashtags?"
   ]
  },
  {
   "cell_type": "code",
   "execution_count": null,
   "id": "718e1db3",
   "metadata": {},
   "outputs": [],
   "source": [
    "select t.tag_name ,count(*) as total from photo_tags pt\n",
    "join tags t\n",
    "on pt.tag_id=t.id\n",
    "group by pt.tag_id\n",
    "order by total desc;"
   ]
  },
  {
   "cell_type": "markdown",
   "id": "8ad6dc32",
   "metadata": {},
   "source": [
    "### 10) We have a small problem with bots on our site. Find users who have liked every single photo on the site"
   ]
  },
  {
   "cell_type": "code",
   "execution_count": null,
   "id": "b0b661af",
   "metadata": {},
   "outputs": [],
   "source": [
    "select user_id,u.username,count(*)\n",
    "from likes l \n",
    "join users u \n",
    "on l.user_id=u.id\n",
    "group by user_id\n",
    "having count(*) =(select count(*) from photos);"
   ]
  },
  {
   "cell_type": "markdown",
   "id": "b7b487da",
   "metadata": {},
   "source": [
    "### 11) We also have a problem with celebrities. Find users who have never commented on a photo"
   ]
  },
  {
   "cell_type": "code",
   "execution_count": null,
   "id": "c1c5b1b9",
   "metadata": {},
   "outputs": [],
   "source": [
    "select username,comment_text \n",
    "from users u \n",
    "left join comments c \n",
    "on u.id=c.user_id\n",
    "group by u.id\n",
    "having c.comment_text is null"
   ]
  },
  {
   "cell_type": "markdown",
   "id": "58e1872a",
   "metadata": {},
   "source": [
    "### 12) Are we overrun with bots and celebrity accounts? Find the percentage of our users who have either never commented on a photo or have commented on every photo"
   ]
  },
  {
   "cell_type": "code",
   "execution_count": null,
   "id": "581cf6f7",
   "metadata": {},
   "outputs": [],
   "source": [
    "select t1.total_1 as  \"Number of users who never commented\",\n",
    "(t1.total_1/(select count(*) from users))*100 as \"%\",\n",
    "t2.total_2 as \"Number  of users who likes every every photos\",\n",
    "(t2.total_2/(select count(*) from users))*100 as \"%\"\n",
    "from\n",
    "(\n",
    "    select count(*) as total_1 \n",
    "        from (select username,comment_text\n",
    "            from users u\n",
    "            left join comments c \n",
    "            on u.id=c.user_id\n",
    "            group by u.id \n",
    "            having comment_text is null) \n",
    "            as total_user_without_comment)\n",
    "as t1\n",
    "join \n",
    "(\n",
    "    select count(*) as total_2\n",
    "        from (select u.id,username,count(u.id) as total_likes_user\n",
    "            from users u\n",
    "            join likes l\n",
    "            on u.id=l.user_id\n",
    "            group by u.id\n",
    "            having total_likes_user = (select count(*) from photos))\n",
    "            as total_user_who_likes_every_photo)\n",
    "as t2"
   ]
  },
  {
   "cell_type": "markdown",
   "id": "a750b898",
   "metadata": {},
   "source": [
    "### 13) Find users who have ever commented on a photo"
   ]
  },
  {
   "cell_type": "code",
   "execution_count": null,
   "id": "1d100c55",
   "metadata": {},
   "outputs": [],
   "source": [
    "select username,comment_text\n",
    "from users u\n",
    "left join comments c \n",
    "on u.id=c.user_id\n",
    "group by u.id\n",
    "having comment_text is not null;"
   ]
  },
  {
   "cell_type": "markdown",
   "id": "22fef5dc",
   "metadata": {},
   "source": [
    "### 14) Are we overrun with bots and celebrity accounts? Find the percentage of our users who have either never commented on a photo or have commented on photos before."
   ]
  },
  {
   "cell_type": "code",
   "execution_count": null,
   "id": "3a0640f2",
   "metadata": {},
   "outputs": [],
   "source": [
    "select t1.total_1 as \"Number of users who never commented\",\n",
    "(t1.total_1/(select count(*) from users))*100 as \"%\",\n",
    "t2.total_2 as \"NUmber of users who commented\",\n",
    "(t2.total_2/(select count(*) from users))*100 as \"%\"\n",
    "from\n",
    "(\n",
    "    select count(*) as total_1 from\n",
    "    (select username,comment_text\n",
    "    from users u \n",
    "    left join comments c \n",
    "    on u.id=c.user_id\n",
    "    group by u.id\n",
    "    having comment_text is null)as total_user_without_comment)\n",
    "    as t1\n",
    "    join\n",
    "    (\n",
    "        select count(*) as total_2 from\n",
    "        (select username,comment_text\n",
    "        from users u \n",
    "        left join comments c \n",
    "        on u.id=c.user_id\n",
    "        group by u.id\n",
    "        having comment_text is not null) as total_user_with_comment)\n",
    "        as t2"
   ]
  }
 ],
 "metadata": {
  "kernelspec": {
   "display_name": "Python 3 (ipykernel)",
   "language": "python",
   "name": "python3"
  },
  "language_info": {
   "codemirror_mode": {
    "name": "ipython",
    "version": 3
   },
   "file_extension": ".py",
   "mimetype": "text/x-python",
   "name": "python",
   "nbconvert_exporter": "python",
   "pygments_lexer": "ipython3",
   "version": "3.9.13"
  }
 },
 "nbformat": 4,
 "nbformat_minor": 5
}
